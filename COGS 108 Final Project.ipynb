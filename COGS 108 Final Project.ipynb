{
 "cells": [
  {
   "cell_type": "markdown",
   "metadata": {},
   "source": [
    "# Crime Analysis in Chicago (2001 vs. 2018)"
   ]
  },
  {
   "cell_type": "markdown",
   "metadata": {},
   "source": [
    "## Descriptive Data Analysis"
   ]
  },
  {
   "cell_type": "markdown",
   "metadata": {},
   "source": [
    "### Setup"
   ]
  },
  {
   "cell_type": "code",
   "execution_count": 2,
   "metadata": {},
   "outputs": [],
   "source": [
    "# Imports\n",
    "import numpy as np\n",
    "import pandas as pd\n",
    "import matplotlib.pyplot as plt\n",
    "plt.rcParams['figure.figsize'] = (17, 7) #increase figure size"
   ]
  },
  {
   "cell_type": "code",
   "execution_count": 24,
   "metadata": {},
   "outputs": [],
   "source": [
    "# Read in datasets\n",
    "df_2001 = pd.read_csv(\"data/crime_2001.csv\")\n",
    "df_2018 = pd.read_csv(\"data/crime_2018.csv\")\n",
    "df_income = pd.read_csv(\"data/Per_Capita_Income.csv\")\n",
    "\n",
    "# Set names\n",
    "df_2001.name = \"Crime in 2001\"\n",
    "df_2018.name = \"Crime in 2018\"\n",
    "df_income.name = \"Income Per Capita\"\n",
    "\n",
    "# Add to list\n",
    "datasets = [df_2001, df_2018, df_income]"
   ]
  },
  {
   "cell_type": "markdown",
   "metadata": {},
   "source": [
    "### Size"
   ]
  },
  {
   "cell_type": "code",
   "execution_count": 29,
   "metadata": {},
   "outputs": [
    {
     "name": "stdout",
     "output_type": "stream",
     "text": [
      "Dataset: Crime in 2001, Shape: (485754, 30)\n",
      "Dataset: Crime in 2018, Shape: (266520, 30)\n",
      "Dataset: Income Per Capita, Shape: (78, 9)\n"
     ]
    }
   ],
   "source": [
    "for dataset in datasets:\n",
    "    print(\"Dataset: {}, Shape: {}\".format(dataset.name, dataset.shape))"
   ]
  },
  {
   "cell_type": "markdown",
   "metadata": {},
   "source": [
    "### Missingness"
   ]
  },
  {
   "cell_type": "code",
   "execution_count": 38,
   "metadata": {},
   "outputs": [
    {
     "name": "stdout",
     "output_type": "stream",
     "text": [
      "CRIME IN 2001:\n",
      "ID                                 0\n",
      "Case Number                        0\n",
      "Date                               0\n",
      "Block                              0\n",
      "IUCR                               0\n",
      "Primary Type                       0\n",
      "Description                        0\n",
      "Location Description               4\n",
      "Arrest                             0\n",
      "Domestic                           0\n",
      "Beat                               0\n",
      "District                           0\n",
      "Ward                          481597\n",
      "Community Area                479618\n",
      "FBI Code                           0\n",
      "X Coordinate                    2876\n",
      "Y Coordinate                    2876\n",
      "Year                               0\n",
      "Updated On                         0\n",
      "Latitude                        2876\n",
      "Longitude                       2876\n",
      "Location                        2876\n",
      "Historical Wards 2003-2015      2941\n",
      "Zip Codes                       2876\n",
      "Community Areas                 2948\n",
      "Census Tracts                   2920\n",
      "Wards                           2948\n",
      "Boundaries - ZIP Codes          2946\n",
      "Police Districts                2937\n",
      "Police Beats                    2937\n",
      "dtype: int64 \n",
      "\n",
      "CRIME IN 2018:\n",
      "ID                               0\n",
      "Case Number                      0\n",
      "Date                             0\n",
      "Block                            0\n",
      "IUCR                             0\n",
      "Primary Type                     0\n",
      "Description                      0\n",
      "Location Description           809\n",
      "Arrest                           0\n",
      "Domestic                         0\n",
      "Beat                             0\n",
      "District                         0\n",
      "Ward                             3\n",
      "Community Area                   2\n",
      "FBI Code                         0\n",
      "X Coordinate                  2989\n",
      "Y Coordinate                  2989\n",
      "Year                             0\n",
      "Updated On                       0\n",
      "Latitude                      2989\n",
      "Longitude                     2989\n",
      "Location                      2989\n",
      "Historical Wards 2003-2015    3867\n",
      "Zip Codes                     2989\n",
      "Community Areas               3753\n",
      "Census Tracts                 3583\n",
      "Wards                         3751\n",
      "Boundaries - ZIP Codes        3750\n",
      "Police Districts              3718\n",
      "Police Beats                  3718\n",
      "dtype: int64 \n",
      "\n",
      "INCOME PER CAPITA:\n",
      "Community Area Number                           1\n",
      "COMMUNITY AREA NAME                             0\n",
      "PERCENT OF HOUSING CROWDED                      0\n",
      "PERCENT HOUSEHOLDS BELOW POVERTY                0\n",
      "PERCENT AGED 16+ UNEMPLOYED                     0\n",
      "PERCENT AGED 25+ WITHOUT HIGH SCHOOL DIPLOMA    0\n",
      "PERCENT AGED UNDER 18 OR OVER 64                0\n",
      "PER CAPITA INCOME                               0\n",
      "HARDSHIP INDEX                                  1\n",
      "dtype: int64 \n",
      "\n"
     ]
    }
   ],
   "source": [
    "for dataset in datasets:\n",
    "    print(dataset.name.upper() + ':')\n",
    "    print(dataset.isnull().sum(), '\\n')"
   ]
  },
  {
   "cell_type": "code",
   "execution_count": null,
   "metadata": {},
   "outputs": [],
   "source": [
    "plt.bar(df_2018['Arrest'].head(50), 5)"
   ]
  },
  {
   "cell_type": "code",
   "execution_count": null,
   "metadata": {},
   "outputs": [],
   "source": []
  }
 ],
 "metadata": {
  "kernelspec": {
   "display_name": "COGS 108 Env",
   "language": "python",
   "name": "cogs108"
  },
  "language_info": {
   "codemirror_mode": {
    "name": "ipython",
    "version": 3
   },
   "file_extension": ".py",
   "mimetype": "text/x-python",
   "name": "python",
   "nbconvert_exporter": "python",
   "pygments_lexer": "ipython3",
   "version": "3.7.3"
  }
 },
 "nbformat": 4,
 "nbformat_minor": 2
}
