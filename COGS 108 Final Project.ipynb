{
 "cells": [
  {
   "cell_type": "markdown",
   "metadata": {},
   "source": [
    "# Crime Analysis in Chicago (2001 vs. 2018)"
   ]
  },
  {
   "cell_type": "markdown",
   "metadata": {},
   "source": [
    "## Descriptive Data Analysis"
   ]
  },
  {
   "cell_type": "markdown",
   "metadata": {},
   "source": [
    "### Setup"
   ]
  },
  {
   "cell_type": "code",
   "execution_count": 7,
   "metadata": {},
   "outputs": [],
   "source": [
    "# Imports\n",
    "import numpy as np\n",
    "import pandas as pd\n",
    "pd.set_option('display.max_columns', 500)\n",
    "import matplotlib.pyplot as plt\n",
    "plt.rcParams['figure.figsize'] = (25, 10) #increase figure size"
   ]
  },
  {
   "cell_type": "code",
   "execution_count": 13,
   "metadata": {
    "scrolled": true
   },
   "outputs": [],
   "source": [
    "\"\"\"\n",
    "# Read in datasets\n",
    "df_2001_2004 = pd.read_csv(\"data/Chicago_Crimes_2001_to_2004.csv\", error_bad_lines=False)\n",
    "df_2005_2007 = pd.read_csv(\"data/Chicago_Crimes_2005_to_2007.csv\", error_bad_lines=False)\n",
    "df_2008_2011 = pd.read_csv(\"data/Chicago_Crimes_2008_to_2011.csv\", error_bad_lines=False)\n",
    "df_2012_2017 = pd.read_csv(\"data/Chicago_Crimes_2012_to_2017.csv\", error_bad_lines=False)\n",
    "\n",
    "# Create dataframes per year\n",
    "df_2001 = df_2001_2004[df_2001_2004['Year'] == 2001]\n",
    "df_2002 = df_2001_2004[df_2001_2004['Year'] == 2002]\n",
    "df_2003 = df_2001_2004[df_2001_2004['Year'] == 2003]\n",
    "df_2004 = df_2001_2004[df_2001_2004['Year'] == 2004]\n",
    "\n",
    "df_2005 = df_2005_2007[df_2005_2007['Year'] == 2005]\n",
    "df_2006 = df_2005_2007[df_2005_2007['Year'] == 2006]\n",
    "df_2007 = df_2005_2007[df_2005_2007['Year'] == 2007]\n",
    "\n",
    "df_2008 = df_2008_2011[df_2008_2011['Year'] == 2008]\n",
    "df_2009 = df_2008_2011[df_2008_2011['Year'] == 2009]\n",
    "df_2010 = df_2008_2011[df_2008_2011['Year'] == 2010]\n",
    "df_2011 = df_2008_2011[df_2008_2011['Year'] == 2011]\n",
    "\n",
    "df_2012 = df_2012_2017[df_2012_2017['Year'] == 2012]\n",
    "df_2013 = df_2012_2017[df_2012_2017['Year'] == 2013]\n",
    "df_2014 = df_2012_2017[df_2012_2017['Year'] == 2014]\n",
    "df_2015 = df_2012_2017[df_2012_2017['Year'] == 2015]\n",
    "df_2016 = df_2012_2017[df_2012_2017['Year'] == 2016]\n",
    "df_2017 = df_2012_2017[df_2012_2017['Year'] == 2017]\n",
    "\n",
    "# List with all datasets\n",
    "export_datasets = [df_2001, df_2002, df_2003, df_2004, df_2005, df_2006, df_2007, df_2008, df_2009, df_2010, df_2011, df_2012, df_2013, df_2014, df_2015, df_2016, df_2017]\n",
    "\n",
    "# Export dataframes into csv files per year\n",
    "year = 2001\n",
    "for dataset in export_datasets:\n",
    "    name = \"data/crime_\" + str(year) + \".csv\"\n",
    "    cols = dataset.columns\n",
    "    #df = pd.read_csv(name, )\n",
    "    dataset.to_csv(name, index=False)\n",
    "    #dataset.to_csv(name, index=False)\n",
    "    year += 1\n",
    "\n",
    "# Loop through csv files and resave to fix index column\n",
    "year = 2001\n",
    "for dataset in export_datasets:\n",
    "    name = \"crime_\" + str(year) + \".csv\"\n",
    "    df = pd.read_csv(\"data/\" + name).drop(dataset.columns[0], axis=1)\n",
    "    df.to_csv(\"data/\" + name, index=0)\n",
    "    year += 1\n",
    "\"\"\";"
   ]
  },
  {
   "cell_type": "code",
   "execution_count": 14,
   "metadata": {},
   "outputs": [],
   "source": [
    "# Load datasets from beginning, middle, and end years\n",
    "df_2003 = pd.read_csv(\"data/crime_2003.csv\")\n",
    "df_2003.name = \"Crime in 2003\"\n",
    "\n",
    "df_2007 = pd.read_csv(\"data/crime_2007.csv\")\n",
    "df_2007.name = \"Crime in 2007\"\n",
    "\n",
    "df_2016 = pd.read_csv(\"data/crime_2016.csv\")\n",
    "df_2016.name = \"Crime in 2016\"\n",
    "\n",
    "datasets = [df_2003, df_2007, df_2016]"
   ]
  },
  {
   "cell_type": "markdown",
   "metadata": {},
   "source": [
    "### Size"
   ]
  },
  {
   "cell_type": "code",
   "execution_count": 15,
   "metadata": {
    "scrolled": true
   },
   "outputs": [
    {
     "name": "stdout",
     "output_type": "stream",
     "text": [
      "Dataset: Crime in 2003, Shape: (475913, 22)\n",
      "Dataset: Crime in 2007, Shape: (621848, 22)\n",
      "Dataset: Crime in 2016, Shape: (265462, 22)\n"
     ]
    }
   ],
   "source": [
    "for dataset in datasets:\n",
    "    print(\"Dataset: {}, Shape: {}\".format(dataset.name, dataset.shape))"
   ]
  },
  {
   "cell_type": "markdown",
   "metadata": {},
   "source": [
    "### Missingness"
   ]
  },
  {
   "cell_type": "code",
   "execution_count": 16,
   "metadata": {},
   "outputs": [
    {
     "name": "stdout",
     "output_type": "stream",
     "text": [
      "Dataset: Crime in 2003\n",
      "ID                         0\n",
      "Case Number                0\n",
      "Date                       0\n",
      "Block                      0\n",
      "IUCR                       0\n",
      "Primary Type               0\n",
      "Description                0\n",
      "Location Description       2\n",
      "Arrest                     0\n",
      "Domestic                   0\n",
      "Beat                       0\n",
      "District                   0\n",
      "Ward                      19\n",
      "Community Area            50\n",
      "FBI Code                   0\n",
      "X Coordinate            4728\n",
      "Y Coordinate            4728\n",
      "Year                       0\n",
      "Updated On                 0\n",
      "Latitude                4728\n",
      "Longitude               4728\n",
      "Location                4728\n",
      "dtype: int64\n",
      "\n",
      "\n",
      "Dataset: Crime in 2007\n",
      "ID                         0\n",
      "Case Number                0\n",
      "Date                       0\n",
      "Block                      0\n",
      "IUCR                       0\n",
      "Primary Type               0\n",
      "Description                0\n",
      "Location Description       5\n",
      "Arrest                     0\n",
      "Domestic                   0\n",
      "Beat                       0\n",
      "District                   2\n",
      "Ward                       8\n",
      "Community Area           215\n",
      "FBI Code                   0\n",
      "X Coordinate            1324\n",
      "Y Coordinate            1324\n",
      "Year                       0\n",
      "Updated On                 0\n",
      "Latitude                1324\n",
      "Longitude               1324\n",
      "Location                1324\n",
      "dtype: int64\n",
      "\n",
      "\n",
      "Dataset: Crime in 2016\n",
      "ID                          0\n",
      "Case Number                 0\n",
      "Date                        0\n",
      "Block                       0\n",
      "IUCR                        0\n",
      "Primary Type                0\n",
      "Description                 0\n",
      "Location Description      783\n",
      "Arrest                      0\n",
      "Domestic                    0\n",
      "Beat                        0\n",
      "District                    0\n",
      "Ward                        0\n",
      "Community Area              0\n",
      "FBI Code                    0\n",
      "X Coordinate            14189\n",
      "Y Coordinate            14189\n",
      "Year                        0\n",
      "Updated On                  0\n",
      "Latitude                14189\n",
      "Longitude               14189\n",
      "Location                14189\n",
      "dtype: int64\n",
      "\n",
      "\n"
     ]
    }
   ],
   "source": [
    "for dataset in datasets:\n",
    "    print(\"Dataset: {}\".format(dataset.name))\n",
    "    print(dataset.isnull().sum())\n",
    "    print('\\n')"
   ]
  },
  {
   "cell_type": "markdown",
   "metadata": {},
   "source": [
    "### Crime per community area (2003, 2007, 2016)"
   ]
  },
  {
   "cell_type": "code",
   "execution_count": 17,
   "metadata": {},
   "outputs": [
    {
     "data": {
      "image/png": "[encoded data removed]",
      "text/plain": [
       "<Figure size 1800x720 with 1 Axes>"
      ]
     },
     "metadata": {
      "needs_background": "light"
     },
     "output_type": "display_data"
    }
   ],
   "source": [
    "df_areas = pd.DataFrame()\n",
    "df_areas['2003'] = df_2003['Community Area'].value_counts()\n",
    "df_areas['2007'] = df_2007['Community Area'].value_counts()\n",
    "df_areas['2016'] = df_2016['Community Area'].value_counts()\n",
    "df_areas.plot(kind='bar', rot=90);"
   ]
  },
  {
   "cell_type": "code",
   "execution_count": null,
   "metadata": {},
   "outputs": [],
   "source": []
  }
 ],
 "metadata": {
  "kernelspec": {
   "display_name": "COGS 108 Env",
   "language": "python",
   "name": "cogs108"
  },
  "language_info": {
   "codemirror_mode": {
    "name": "ipython",
    "version": 3
   },
   "file_extension": ".py",
   "mimetype": "text/x-python",
   "name": "python",
   "nbconvert_exporter": "python",
   "pygments_lexer": "ipython3",
   "version": "3.7.3"
  }
 },
 "nbformat": 4,
 "nbformat_minor": 2
}
