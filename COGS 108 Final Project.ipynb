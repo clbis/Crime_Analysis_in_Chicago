{
 "cells": [
  {
   "cell_type": "markdown",
   "metadata": {},
   "source": [
    "# Crime Analysis in Chicago (2001 vs. 2018)"
   ]
  },
  {
   "cell_type": "markdown",
   "metadata": {},
   "source": [
    "## Descriptive Data Analysis"
   ]
  },
  {
   "cell_type": "markdown",
   "metadata": {},
   "source": [
    "### Setup"
   ]
  },
  {
   "cell_type": "code",
   "execution_count": 1,
   "metadata": {},
   "outputs": [],
   "source": [
    "# Imports\n",
    "import numpy as np\n",
    "import pandas as pd\n",
    "pd.set_option('display.max_columns', 500)\n",
    "import matplotlib.pyplot as plt\n",
    "plt.rcParams['figure.figsize'] = (25, 10) #increase figure size\n",
    "plt.rcParams.update({'font.size': 22}) # Increase font size"
   ]
  },
  {
   "cell_type": "code",
   "execution_count": null,
   "metadata": {
    "scrolled": true
   },
   "outputs": [],
   "source": [
    "\"\"\"\n",
    "# Read in datasets\n",
    "df_2001_2004 = pd.read_csv(\"data/Chicago_Crimes_2001_to_2004.csv\", error_bad_lines=False)\n",
    "df_2005_2007 = pd.read_csv(\"data/Chicago_Crimes_2005_to_2007.csv\", error_bad_lines=False)\n",
    "df_2008_2011 = pd.read_csv(\"data/Chicago_Crimes_2008_to_2011.csv\", error_bad_lines=False)\n",
    "df_2012_2017 = pd.read_csv(\"data/Chicago_Crimes_2012_to_2017.csv\", error_bad_lines=False)\n",
    "\n",
    "# Create dataframes per year\n",
    "df_2001 = df_2001_2004[df_2001_2004['Year'] == 2001]\n",
    "df_2002 = df_2001_2004[df_2001_2004['Year'] == 2002]\n",
    "df_2003 = df_2001_2004[df_2001_2004['Year'] == 2003]\n",
    "df_2004 = df_2001_2004[df_2001_2004['Year'] == 2004]\n",
    "\n",
    "df_2005 = df_2005_2007[df_2005_2007['Year'] == 2005]\n",
    "df_2006 = df_2005_2007[df_2005_2007['Year'] == 2006]\n",
    "df_2007 = df_2005_2007[df_2005_2007['Year'] == 2007]\n",
    "\n",
    "df_2008 = df_2008_2011[df_2008_2011['Year'] == 2008]\n",
    "df_2009 = df_2008_2011[df_2008_2011['Year'] == 2009]\n",
    "df_2010 = df_2008_2011[df_2008_2011['Year'] == 2010]\n",
    "df_2011 = df_2008_2011[df_2008_2011['Year'] == 2011]\n",
    "\n",
    "df_2012 = df_2012_2017[df_2012_2017['Year'] == 2012]\n",
    "df_2013 = df_2012_2017[df_2012_2017['Year'] == 2013]\n",
    "df_2014 = df_2012_2017[df_2012_2017['Year'] == 2014]\n",
    "df_2015 = df_2012_2017[df_2012_2017['Year'] == 2015]\n",
    "df_2016 = df_2012_2017[df_2012_2017['Year'] == 2016]\n",
    "df_2017 = df_2012_2017[df_2012_2017['Year'] == 2017]\n",
    "\n",
    "# List with all datasets\n",
    "export_datasets = [df_2001, df_2002, df_2003, df_2004, df_2005, df_2006, df_2007, df_2008, df_2009, df_2010, df_2011, df_2012, df_2013, df_2014, df_2015, df_2016, df_2017]\n",
    "\n",
    "# Export dataframes into csv files per year\n",
    "year = 2001\n",
    "for dataset in export_datasets:\n",
    "    name = \"data/crime_\" + str(year) + \".csv\"\n",
    "    cols = dataset.columns\n",
    "    #df = pd.read_csv(name, )\n",
    "    dataset.to_csv(name, index=False)\n",
    "    #dataset.to_csv(name, index=False)\n",
    "    year += 1\n",
    "\n",
    "# Loop through csv files and resave to fix index column\n",
    "year = 2001\n",
    "for dataset in export_datasets:\n",
    "    name = \"crime_\" + str(year) + \".csv\"\n",
    "    df = pd.read_csv(\"data/\" + name).drop(dataset.columns[0], axis=1)\n",
    "    df.to_csv(\"data/\" + name, index=0)\n",
    "    year += 1\n",
    "\"\"\";"
   ]
  },
  {
   "cell_type": "code",
   "execution_count": null,
   "metadata": {},
   "outputs": [],
   "source": [
    "# Load all datasets\n",
    "\"\"\"\n",
    "df_2001 = pd.read_csv(\"data/crime_2001.csv\")\n",
    "df_2001.name = \"Crime in 2001\"\n",
    "df_2001.year = \"2001\"\n",
    "\n",
    "df_2002 = pd.read_csv(\"data/crime_2002.csv\")\n",
    "df_2002.name = \"Crime in 2002\"\n",
    "df_2002.year = \"2002\"\n",
    "\"\"\"\n",
    "\n",
    "df_2003 = pd.read_csv(\"data/crime_2003.csv\")\n",
    "df_2003.name = \"Crime in 2003\"\n",
    "df_2003.year = \"2003\"\n",
    "\n",
    "\"\"\"\n",
    "df_2004 = pd.read_csv(\"data/crime_2004.csv\")\n",
    "df_2004.name = \"Crime in 2004\"\n",
    "df_2004.year = \"2004\"\n",
    "\n",
    "df_2005 = pd.read_csv(\"data/crime_2005.csv\")\n",
    "df_2005.name = \"Crime in 2005\"\n",
    "df_2005.year = \"2005\"\n",
    "\n",
    "df_2006 = pd.read_csv(\"data/crime_2006.csv\")\n",
    "df_2006.name = \"Crime in 2006\"\n",
    "df_2006.year = \"2006\"\n",
    "\"\"\"\n",
    "\n",
    "df_2007 = pd.read_csv(\"data/crime_2007.csv\")\n",
    "df_2007.name = \"Crime in 2007\"\n",
    "df_2007.year = \"2007\"\n",
    "\n",
    "\"\"\"df_2008 = pd.read_csv(\"data/crime_2008.csv\")\n",
    "df_2008.name = \"Crime in 2008\"\n",
    "df_2008.year = \"2008\"\n",
    "\n",
    "df_2009 = pd.read_csv(\"data/crime_2009.csv\")\n",
    "df_2009.name = \"Crime in 2009\"\n",
    "df_2009.year = \"2009\"\n",
    "\n",
    "df_2010 = pd.read_csv(\"data/crime_2010.csv\")\n",
    "df_2010.name = \"Crime in 2010\"\n",
    "df_2010.year = \"2010\"\n",
    "\n",
    "df_2011 = pd.read_csv(\"data/crime_2011.csv\")\n",
    "df_2011.name = \"Crime in 2011\"\n",
    "df_2011.year = \"2011\"\n",
    "\n",
    "df_2012 = pd.read_csv(\"data/crime_2012.csv\")\n",
    "df_2012.name = \"Crime in 2012\"\n",
    "df_2012.year = \"2012\"\n",
    "\n",
    "df_2013 = pd.read_csv(\"data/crime_2013.csv\")\n",
    "df_2013.name = \"Crime in 2013\"\n",
    "df_2013.year = \"2013\"\n",
    "\n",
    "df_2014 = pd.read_csv(\"data/crime_2014.csv\")\n",
    "df_2014.name = \"Crime in 2014\"\n",
    "df_2014.year = \"2014\"\n",
    "\n",
    "df_2015 = pd.read_csv(\"data/crime_2015.csv\")\n",
    "df_2015.name = \"Crime in 2015\"\n",
    "df_2015.year = \"2015\"\n",
    "\"\"\"\n",
    "\n",
    "df_2016 = pd.read_csv(\"data/crime_2016.csv\")\n",
    "df_2016.name = \"Crime in 2016\"\n",
    "df_2016.year = \"2016\"\n",
    "\n",
    "datasets = [df_2003,\n",
    "            df_2007,\n",
    "            df_2016]\n",
    "\"\"\"\n",
    "datasets = [df_2003,\n",
    "            df_2004,\n",
    "            df_2005,\n",
    "            df_2006,\n",
    "            df_2007,\n",
    "            df_2008,\n",
    "            df_2009,\n",
    "            df_2010,\n",
    "            df_2011,\n",
    "            df_2012,\n",
    "            df_2013,\n",
    "            df_2014,\n",
    "            df_2015,\n",
    "            df_2016]\n",
    "\"\"\""
   ]
  },
  {
   "cell_type": "markdown",
   "metadata": {},
   "source": [
    "### Size"
   ]
  },
  {
   "cell_type": "code",
   "execution_count": null,
   "metadata": {
    "scrolled": true
   },
   "outputs": [],
   "source": [
    "for dataset in datasets:\n",
    "    print(\"Dataset: {}, Shape: {}\".format(dataset.name, dataset.shape))"
   ]
  },
  {
   "cell_type": "markdown",
   "metadata": {},
   "source": [
    "### Missingness"
   ]
  },
  {
   "cell_type": "code",
   "execution_count": null,
   "metadata": {},
   "outputs": [],
   "source": [
    "for dataset in datasets:\n",
    "    print(\"Dataset: {}\".format(dataset.name))\n",
    "    print(dataset.isnull().sum())\n",
    "    print('\\n')"
   ]
  },
  {
   "cell_type": "markdown",
   "metadata": {},
   "source": [
    "### Set date as index"
   ]
  },
  {
   "cell_type": "code",
   "execution_count": null,
   "metadata": {},
   "outputs": [],
   "source": [
    "for dataset in datasets:\n",
    "    dataset['Date'] = pd.to_datetime(dataset['Date'])\n",
    "    dataset.set_index('Date', inplace=True)\n",
    "    dataset.sort_index(inplace=True)\n",
    "    print(dataset.name, \"done\")"
   ]
  },
  {
   "cell_type": "markdown",
   "metadata": {},
   "source": [
    "### Remove rows with missing values"
   ]
  },
  {
   "cell_type": "code",
   "execution_count": null,
   "metadata": {},
   "outputs": [],
   "source": [
    "for dataset in datasets:\n",
    "    dataset.dropna(inplace=True)"
   ]
  },
  {
   "cell_type": "markdown",
   "metadata": {},
   "source": [
    "### Remove unnecessary columns"
   ]
  },
  {
   "cell_type": "code",
   "execution_count": null,
   "metadata": {},
   "outputs": [],
   "source": [
    "for dataset in datasets:\n",
    "    dataset.drop(columns=['ID', 'Case Number', 'Block', 'IUCR', 'Beat', 'Ward', 'FBI Code', 'Updated On', 'Latitude', 'Longitude'], axis=1, inplace=True)"
   ]
  },
  {
   "cell_type": "markdown",
   "metadata": {},
   "source": [
    "### Pickle dataframes for easier loading"
   ]
  },
  {
   "cell_type": "code",
   "execution_count": null,
   "metadata": {},
   "outputs": [],
   "source": [
    "for dataset in datasets:\n",
    "    dataset.to_pickle(\"./data/crime_\" + dataset.year + \".pkl\")"
   ]
  },
  {
   "cell_type": "markdown",
   "metadata": {},
   "source": [
    "### Load pickles to bypass data loading/formatting"
   ]
  },
  {
   "cell_type": "code",
   "execution_count": 2,
   "metadata": {},
   "outputs": [],
   "source": [
    "df_2003 = pd.read_pickle(\"./data/crime_2003.pkl\")\n",
    "df_2007 = pd.read_pickle(\"./data/crime_2007.pkl\")\n",
    "df_2016 = pd.read_pickle(\"./data/crime_2016.pkl\")\n",
    "\n",
    "datasets = [df_2003,\n",
    "            df_2007,\n",
    "            df_2016]"
   ]
  },
  {
   "cell_type": "markdown",
   "metadata": {},
   "source": [
    "### Number of crimes per year"
   ]
  },
  {
   "cell_type": "code",
   "execution_count": null,
   "metadata": {},
   "outputs": [],
   "source": [
    "years = []\n",
    "data_len = []\n",
    "for dataset in datasets:\n",
    "    years.append(dataset.year)\n",
    "    data_len.append(len(dataset))\n",
    "\n",
    "df_num = pd.DataFrame({'Year': years,'Num Crimes': data_len}).set_index('Year')\n",
    "df_num.plot(kind='bar', rot=90, title=\"Number of Crimes per Year\");"
   ]
  },
  {
   "cell_type": "markdown",
   "metadata": {},
   "source": [
    "### Crime per community area (2003, 2007, 2016)"
   ]
  },
  {
   "cell_type": "code",
   "execution_count": null,
   "metadata": {},
   "outputs": [],
   "source": [
    "category = 'Community Area'\n",
    "num_categories = 71\n",
    "\n",
    "df_areas = pd.DataFrame()\n",
    "df_areas['2003'] = df_2003[category].value_counts()#[:num_categories]\n",
    "df_areas['2007'] = df_2007[category].value_counts()#[:num_categories]\n",
    "df_areas['2016'] = df_2016[category].value_counts()#[:num_categories]\n",
    "\n",
    "plt.rcParams.update({'font.size': 22})\n",
    "df_areas.head(10).plot(kind='bar', rot=90, title=\"Number of Crimes by Community Area\");\n",
    "\n",
    "fig, axs = plt.subplots(1,3)\n",
    "plt.tight_layout()\n",
    "\n",
    "plt.rcParams.update({'font.size': 18}) # Increase font size\n",
    "\n",
    "df_areas['2003'].sort_values(ascending=False).head(10).plot(kind='bar', rot=90, ax=axs[0], title=\"Number of Crimes by Community Area in 2003\");\n",
    "df_areas['2007'].sort_values(ascending=False).head(10).plot(kind='bar', rot=90, ax=axs[1], title=\"Number of Crimes by Community Area in 2007\");\n",
    "df_areas['2016'].sort_values(ascending=False).head(10).plot(kind='bar', rot=90, ax=axs[2], title=\"Number of Crimes by Community Area in 2016\");"
   ]
  },
  {
   "cell_type": "code",
   "execution_count": null,
   "metadata": {
    "scrolled": true
   },
   "outputs": [],
   "source": [
    "#%matplotlib inline\n",
    "\n",
    "category = 'Primary Type'\n",
    "num_categories = 10\n",
    "\n",
    "df_areas = pd.DataFrame()\n",
    "df_areas['2003'] = df_2003[category].value_counts()\n",
    "df_areas['2004'] = df_2004[category].value_counts()\n",
    "df_areas['2005'] = df_2005[category].value_counts()\n",
    "df_areas['2006'] = df_2006[category].value_counts()\n",
    "df_areas['2007'] = df_2007[category].value_counts()\n",
    "df_areas['2008'] = df_2008[category].value_counts()\n",
    "df_areas['2009'] = df_2009[category].value_counts()\n",
    "df_areas['2010'] = df_2010[category].value_counts()\n",
    "df_areas['2011'] = df_2011[category].value_counts()\n",
    "df_areas['2012'] = df_2012[category].value_counts()\n",
    "df_areas['2013'] = df_2013[category].value_counts()\n",
    "df_areas['2014'] = df_2014[category].value_counts()\n",
    "df_areas['2015'] = df_2015[category].value_counts()\n",
    "df_areas['2016'] = df_2016[category].value_counts()\n",
    "\n",
    "df_areas[['2003', '2007', '2016']].head(num_categories).plot(kind='bar', rot=90, title=\"Top 10 Crime Types\");\n",
    "\n",
    "fig, axs = plt.subplots(1,3)\n",
    "plt.tight_layout()\n",
    "\n",
    "df_top_2003 = df_areas['2003']\n",
    "df_top_2007 = df_areas['2007']\n",
    "df_top_2016 = df_areas['2016']\n",
    "\n",
    "df_top_2003.sort_values(ascending=False).head(10).plot(kind='bar', rot=90, ax=axs[0], title=\"Top 10 Crimes in 2003\");\n",
    "df_top_2007.sort_values(ascending=False).head(10).plot(kind='bar', rot=90, ax=axs[1], title=\"Top 10 Crimes in 2007\");\n",
    "df_top_2016.sort_values(ascending=False).head(10).plot(kind='bar', rot=90, ax=axs[2], title=\"Top 10 Crimes in 2016\");"
   ]
  },
  {
   "cell_type": "code",
   "execution_count": null,
   "metadata": {},
   "outputs": [],
   "source": []
  },
  {
   "cell_type": "code",
   "execution_count": null,
   "metadata": {},
   "outputs": [],
   "source": []
  },
  {
   "cell_type": "markdown",
   "metadata": {},
   "source": [
    "## Per income"
   ]
  },
  {
   "cell_type": "code",
   "execution_count": null,
   "metadata": {},
   "outputs": [],
   "source": [
    "import descartes\n",
    "import geopandas as gpd\n",
    "from shapely.geometry import Point, Polygon"
   ]
  },
  {
   "cell_type": "code",
   "execution_count": null,
   "metadata": {},
   "outputs": [],
   "source": [
    "crs={'init':'epsg:4326'}\n",
    "axs={}\n",
    "# zip the Longtitude and Latitude together. Each point represents a row in Data frame\n",
    "Geo_2003= [Point(xy) for xy in zip (df_2003[\"X Coordinate\"],df_2003[\"Y Coordinate\"])]\n",
    "Geo_2007= [Point(xy) for xy in zip (df_2007[\"X Coordinate\"],df_2007[\"Y Coordinate\"])]\n",
    "Geo_2016= [Point(xy) for xy in zip (df_2016[\"X Coordinate\"],df_2016[\"Y Coordinate\"])]\n",
    "\n",
    "Geo_df_2003= gpd.GeoDataFrame(df_2003,crs=crs,geometry=Geo_2003)\n",
    "Geo_df_2007= gpd.GeoDataFrame(df_2007,crs=crs,geometry=Geo_2007)\n",
    "Geo_df_2016= gpd.GeoDataFrame(df_2016,crs=crs,geometry=Geo_2016)\n",
    "\n",
    "fig,axs=plt.subplots(1,3)\n",
    "\n",
    "Geo_df_2003.plot(ax=axs[0],markersize=1)\n",
    "Geo_df_2007.plot(ax=axs[1],markersize=1)\n",
    "Geo_df_2016.plot(ax=axs[2],markersize=1)\n",
    "\n",
    "axs[0].set_title('Crimes happened in Chicago in 2003')\n",
    "axs[1].set_title('Crimes happened in Chicago in 2007')\n",
    "axs[2].set_title('Crimes happened in Chicago in 2007')"
   ]
  },
  {
   "cell_type": "code",
   "execution_count": null,
   "metadata": {},
   "outputs": [],
   "source": []
  }
 ],
 "metadata": {
  "kernelspec": {
   "display_name": "Python 3",
   "language": "python",
   "name": "python3"
  },
  "language_info": {
   "codemirror_mode": {
    "name": "ipython",
    "version": 3
   },
   "file_extension": ".py",
   "mimetype": "text/x-python",
   "name": "python",
   "nbconvert_exporter": "python",
   "pygments_lexer": "ipython3",
   "version": "3.7.3"
  }
 },
 "nbformat": 4,
 "nbformat_minor": 2
}
